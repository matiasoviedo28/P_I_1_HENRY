{
 "cells": [
  {
   "cell_type": "code",
   "execution_count": null,
   "metadata": {},
   "outputs": [],
   "source": [
    "#SCRIPT PARA LIMIAR LOS DATOS DEL DATASET, CONVIRTIENDO TIPOS DE DATOS, MANEJANDO ERRORES Y ELIMINANDO COLUMNAS NO UTILIZADAS\n",
    "import pandas as pd\n",
    "import ast\n",
    "import os"
   ]
  },
  {
   "cell_type": "code",
   "execution_count": null,
   "metadata": {},
   "outputs": [],
   "source": [
    "#definir ubicaciones de los csv a limpiar\n",
    "csv_movies = 'datasets/movies_dataset.csv'\n",
    "csv_credits = 'datasets/credits.csv'\n",
    "\n",
    "#verificar si los csv existen\n",
    "if os.path.exists(csv_movies):\n",
    "    df_movies = pd.read_csv(csv_movies)\n",
    "else:\n",
    "    print(f\"El archivo {csv_movies} no existe. LIMPIEZA CANCELADA\")\n",
    "    exit()\n",
    "\n",
    "if os.path.exists(csv_credits):\n",
    "    df_credits = pd.read_csv(csv_credits)\n",
    "else:\n",
    "    print(f\"El archivo {csv_credits} no existe. LIMPIEZA CANCELADA\")\n",
    "    exit()"
   ]
  },
  {
   "cell_type": "code",
   "execution_count": null,
   "metadata": {},
   "outputs": [],
   "source": [
    "#MOVIES_DATASET\n",
    "#convertir columnas a tipos numericos\n",
    "df_movies['budget'] = pd.to_numeric(df_movies['budget'], errors='coerce')\n",
    "df_movies['popularity'] = pd.to_numeric(df_movies['popularity'], errors='coerce')\n",
    "df_movies['revenue'] = pd.to_numeric(df_movies['revenue'], errors='coerce')\n",
    "df_movies['runtime'] = pd.to_numeric(df_movies['runtime'], errors='coerce')"
   ]
  },
  {
   "cell_type": "code",
   "execution_count": null,
   "metadata": {},
   "outputs": [],
   "source": [
    "#manejar fechas\n",
    "df_movies['release_date'] = pd.to_datetime(df_movies['release_date'], errors='coerce')\n"
   ]
  },
  {
   "cell_type": "code",
   "execution_count": null,
   "metadata": {},
   "outputs": [],
   "source": [
    "#rellenar nulos con 0\n",
    "df_movies['budget'].fillna(0, inplace=True)\n",
    "df_movies['popularity'].fillna(0, inplace=True)\n",
    "df_movies['revenue'].fillna(0, inplace=True)\n",
    "df_movies['runtime'].fillna(0, inplace=True)"
   ]
  },
  {
   "cell_type": "code",
   "execution_count": null,
   "metadata": {},
   "outputs": [],
   "source": [
    "#borrar filas con valores nulos\n",
    "df_movies.dropna(subset=['release_date'], inplace=True)"
   ]
  },
  {
   "cell_type": "code",
   "execution_count": null,
   "metadata": {},
   "outputs": [],
   "source": [
    "#eliminar release_date y crear columna release_year\n",
    "df_movies['release_date'] = df_movies['release_date'].dt.strftime('%Y-%m-%d')\n",
    "df_movies['release_year'] = pd.to_datetime(df_movies['release_date']).dt.year"
   ]
  },
  {
   "cell_type": "code",
   "execution_count": null,
   "metadata": {},
   "outputs": [],
   "source": [
    "#hacer columna return como ratio de revenue sobre budget\n",
    "df_movies['return'] = df_movies.apply(lambda row: row['revenue'] / row['budget'] if row['budget'] > 0 else 0, axis=1)"
   ]
  },
  {
   "cell_type": "code",
   "execution_count": null,
   "metadata": {},
   "outputs": [],
   "source": [
    "#borrar columnas que no se usarán\n",
    "columns_to_drop = ['video', 'imdb_id', 'adult', 'original_title', 'poster_path', 'homepage']\n",
    "df_movies.drop(columns=columns_to_drop, inplace=True)"
   ]
  },
  {
   "cell_type": "code",
   "execution_count": null,
   "metadata": {},
   "outputs": [],
   "source": [
    "#procesar columnas anidadas\n",
    "def parse_nested_column(value):\n",
    "    try:\n",
    "        return ast.literal_eval(value) if pd.notnull(value) else []\n",
    "    except (ValueError, SyntaxError):\n",
    "        return []\n",
    "\n",
    "#desanidar\n",
    "list_columns = ['production_companies', 'production_countries', 'spoken_languages']\n",
    "for column in list_columns:\n",
    "    df_movies[column] = df_movies[column].apply(parse_nested_column)\n",
    "print(\"df movies finalizado\")"
   ]
  },
  {
   "cell_type": "code",
   "execution_count": null,
   "metadata": {},
   "outputs": [],
   "source": [
    "#CREDITS DATASET\n",
    "#extraer el nombre y el personaje del elenco\n",
    "def extract_cast(cast_str):\n",
    "    try:\n",
    "        cast_list = ast.literal_eval(cast_str)\n",
    "        return [{'name': cast_member['name'], 'character': cast_member['character']} for cast_member in cast_list]\n",
    "    except (ValueError, SyntaxError):\n",
    "        return []\n",
    "\n",
    "#extraer el nombre, trabajo y departamento\n",
    "def extract_crew(crew_str):\n",
    "    try:\n",
    "        crew_list = ast.literal_eval(crew_str)\n",
    "        return [{'name': crew_member['name'], 'job': crew_member['job'], 'department': crew_member['department']} for crew_member in crew_list]\n",
    "    except (ValueError, SyntaxError):\n",
    "        return []"
   ]
  },
  {
   "cell_type": "code",
   "execution_count": null,
   "metadata": {},
   "outputs": [],
   "source": [
    "#aplicar las funciones a las columnas\n",
    "df_credits['cast'] = df_credits['cast'].apply(extract_cast)\n",
    "df_credits['crew'] = df_credits['crew'].apply(extract_crew)\n",
    "print(\"df credits finalizado\")"
   ]
  },
  {
   "cell_type": "code",
   "execution_count": null,
   "metadata": {},
   "outputs": [],
   "source": [
    "#save\n",
    "df_movies.to_parquet(\"datasets/movies_dataset.parquet\", index=False)\n",
    "df_credits.to_parquet(\"datasets/credits.parquet\", index=False)\n",
    "print(\"limpieza realizada\")"
   ]
  },
  {
   "cell_type": "code",
   "execution_count": null,
   "metadata": {},
   "outputs": [],
   "source": [
    "#ELIMINAR ARCHIVOS ANTIGUIS\n",
    "# Verificar si el archivo existe y eliminarlo\n",
    "if os.path.exists(csv_movies):\n",
    "    os.remove(csv_movies)\n",
    "    print(f\"Archivo {csv_movies} eliminado.\")\n",
    "else:\n",
    "    print(f\"El archivo {csv_movies} no existe.\")\n",
    "if os.path.exists(csv_credits):\n",
    "    os.remove(csv_credits)\n",
    "    print(f\"Archivo {csv_credits} eliminado.\")\n",
    "else:\n",
    "    print(f\"El archivo {csv_credits} no existe.\")\n",
    "print(\"codigo finalizado\")"
   ]
  }
 ],
 "metadata": {
  "language_info": {
   "name": "python"
  }
 },
 "nbformat": 4,
 "nbformat_minor": 2
}
