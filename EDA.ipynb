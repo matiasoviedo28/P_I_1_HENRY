{
 "cells": [
  {
   "cell_type": "code",
   "execution_count": 58,
   "metadata": {},
   "outputs": [],
   "source": [
    "#IMPORTACIONES DE LIBRERÍAS\n",
    "import pandas as pd\n",
    "import matplotlib.pyplot as plt\n",
    "import seaborn as sns\n",
    "import os\n",
    "import ast\n",
    "from wordcloud import WordCloud\n",
    "from nltk.corpus import stopwords\n",
    "from nltk.tokenize import word_tokenize\n",
    "from collections import Counter"
   ]
  },
  {
   "cell_type": "code",
   "execution_count": 59,
   "metadata": {},
   "outputs": [],
   "source": [
    "#CARGAR DATOS\n",
    "try:\n",
    "    movies_metadata = pd.read_csv(\"movies_dataset.csv\", low_memory=False)\n",
    "    credits = pd.read_csv(\"credits.csv\", low_memory=False)\n",
    "except Exception as e:\n",
    "    print(f\"Error al cargar los archivos CSV: {e}\")\n",
    "\n",
    "sns.set(style=\"whitegrid\") #ESTILO DE GRAFICO\n",
    "\n",
    "carpeta_graficos = 'Graficos' #carpeta para exportar graficos"
   ]
  },
  {
   "cell_type": "code",
   "execution_count": null,
   "metadata": {},
   "outputs": [],
   "source": [
    "#GRAFICO 1, RELACIÓN ENTRE PRESUPUESTO E INGRESOS DE PELICULAS\n",
    "plt.figure(figsize=(10, 6))\n",
    "sns.scatterplot(x='budget', y='revenue', data=movies_metadata)\n",
    "plt.title('Relación entre Presupuesto y Ingresos')\n",
    "plt.xlabel('Presupuesto')\n",
    "plt.ylabel('Ingresos')\n",
    "plt.savefig(os.path.join(carpeta_graficos, 'presupuesto-ingresos.png'))\n",
    "plt.show()"
   ]
  },
  {
   "cell_type": "code",
   "execution_count": null,
   "metadata": {},
   "outputs": [],
   "source": [
    "#GRAFICO 2, POPULARIDAD DE LAS PELICULAS A LO LARGO DEL TIEMPO\n",
    "plt.figure(figsize=(10, 6))\n",
    "movies_metadata['release_year'] = pd.to_datetime(movies_metadata['release_date'], errors='coerce').dt.year\n",
    "sns.lineplot(x='release_year', y='popularity', data=movies_metadata)\n",
    "plt.title('Popularidad de las Películas a lo Largo del Tiempo')\n",
    "plt.xlabel('Año')\n",
    "plt.ylabel('Popularidad')\n",
    "plt.savefig(os.path.join(carpeta_graficos, 'popularidad-tiempo.png'))\n",
    "plt.show()"
   ]
  },
  {
   "cell_type": "code",
   "execution_count": null,
   "metadata": {},
   "outputs": [],
   "source": [
    "#GRAFICO 3, CANTIDAD DE PELICULAS EXTRENADAS EN LOS ULTIMOS 50 AÑOS\n",
    "#preparar los datos para el grafico\n",
    "movies_metadata['release_date'] = pd.to_datetime(movies_metadata['release_date'], errors='coerce')\n",
    "movies_metadata['release_year'] = movies_metadata['release_date'].dt.year\n",
    "recent_years = movies_metadata['release_year'].dropna().astype(int).value_counts().sort_index(ascending=False).head(50)\n",
    "\n",
    "plt.figure(figsize=(12, 8))\n",
    "recent_years.sort_index().plot(kind='bar')\n",
    "plt.title('Número de Películas Estrenadas por Año (Últimos 50 Años)')\n",
    "plt.xlabel('Año')\n",
    "plt.ylabel('Número de Películas')\n",
    "plt.xticks(rotation=45)\n",
    "plt.savefig(os.path.join(carpeta_graficos, 'cantidad-extrenos.png'))\n",
    "plt.show()"
   ]
  },
  {
   "cell_type": "code",
   "execution_count": null,
   "metadata": {},
   "outputs": [],
   "source": [
    "#GRAFICO 4, CANTIDAD POR IDIOMA\n",
    "plt.figure(figsize=(10, 6))\n",
    "languages_count = movies_metadata['original_language'].value_counts().head(10)\n",
    "sns.barplot(x=languages_count.index, y=languages_count.values)\n",
    "plt.title('Número de Películas por Idioma')\n",
    "plt.xlabel('Idioma')\n",
    "plt.ylabel('Número de Películas')\n",
    "plt.xticks(rotation=90)\n",
    "plt.savefig(os.path.join(carpeta_graficos, 'peliculas-x-idioma.png'))\n",
    "plt.show()"
   ]
  },
  {
   "cell_type": "code",
   "execution_count": null,
   "metadata": {},
   "outputs": [],
   "source": [
    "#GRAFICO 5, PELICULAS POR DÍA DE SEMANA\n",
    "try:\n",
    "    movies_metadata['release_date'] = pd.to_datetime(movies_metadata['release_date'], errors='coerce')\n",
    "    movies_metadata['day_of_week'] = movies_metadata['release_date'].dt.day_name()\n",
    "    day_counts = movies_metadata['day_of_week'].value_counts()\n",
    "    plt.figure(figsize=(10, 6))\n",
    "    sns.barplot(x=day_counts.index, y=day_counts.values)\n",
    "    plt.title('Número de Películas por Día de la Semana')\n",
    "    plt.xlabel('Día de la Semana')\n",
    "    plt.ylabel('Número de Películas')\n",
    "    plt.xticks(rotation=90)\n",
    "    plt.savefig(os.path.join(carpeta_graficos, 'extrenos-por-dia.png'))\n",
    "    plt.show()\n",
    "except Exception as e:\n",
    "    print(f\"Error al procesar días de la semana: {e}\")"
   ]
  },
  {
   "cell_type": "code",
   "execution_count": null,
   "metadata": {},
   "outputs": [],
   "source": [
    "#GRAFICO 6, PELICULAS POR MES\n",
    "try:\n",
    "    movies_metadata['month'] = movies_metadata['release_date'].dt.month_name()\n",
    "    month_counts = movies_metadata['month'].value_counts()\n",
    "    plt.figure(figsize=(10, 6))\n",
    "    sns.barplot(x=month_counts.index, y=month_counts.values)\n",
    "    plt.title('Número de Películas por Mes')\n",
    "    plt.xlabel('Mes')\n",
    "    plt.ylabel('Número de Películas')\n",
    "    plt.xticks(rotation=90)\n",
    "    plt.savefig(os.path.join(carpeta_graficos, 'extrenos-por-mes.png'))\n",
    "    plt.show()\n",
    "except Exception as e:\n",
    "    print(f\"Error al procesar meses: {e}\")"
   ]
  },
  {
   "cell_type": "code",
   "execution_count": null,
   "metadata": {},
   "outputs": [],
   "source": [
    "#GRAFICO 7, DURACIÓN DE PELICULAS\n",
    "filtered_movies = movies_metadata[(movies_metadata['runtime'] > 40) & (movies_metadata['runtime'] < 200)]\n",
    "\n",
    "plt.figure(figsize=(10, 6))\n",
    "sns.histplot(filtered_movies['runtime'].dropna(), bins=50, kde=True, color='skyblue')\n",
    "plt.title('Duración de las Películas')\n",
    "plt.xlabel('Duración (minutos)')\n",
    "plt.ylabel('Numero de películas')\n",
    "plt.savefig(os.path.join(carpeta_graficos, 'duracion.png'))\n",
    "plt.show()"
   ]
  },
  {
   "cell_type": "code",
   "execution_count": null,
   "metadata": {},
   "outputs": [],
   "source": [
    "#GRAFICO 8, TOP RECAUDACIONES\n",
    "movies_metadata['revenue'] = pd.to_numeric(movies_metadata['revenue'], errors='coerce')\n",
    "top_20_revenue = movies_metadata[['title', 'revenue']].dropna().sort_values(by='revenue', ascending=False).head(20)\n",
    "\n",
    "plt.figure(figsize=(12, 8))\n",
    "sns.barplot(x='revenue', y='title', data=top_20_revenue, palette='viridis')\n",
    "plt.title('Top 20 Películas con Mayor Recaudación Total')\n",
    "plt.xlabel('Recaudación Total (Millones USD)')\n",
    "plt.ylabel('Título de la Película')\n",
    "plt.savefig(os.path.join(carpeta_graficos, 'top-recaudaciones.png'))\n",
    "plt.show()"
   ]
  },
  {
   "cell_type": "code",
   "execution_count": null,
   "metadata": {},
   "outputs": [],
   "source": [
    "#GRAFICO 9, PUNTUACIONES DE PELICULAS\n",
    "movies_metadata['vote_average'] = pd.to_numeric(movies_metadata['vote_average'], errors='coerce')\n",
    "valid_votes = movies_metadata[(movies_metadata['vote_average'] >= 1) & (movies_metadata['vote_average'] <= 10)]\n",
    "valid_votes['vote_average'] = valid_votes['vote_average'].round()#redondear las valoraciones a números enteros\n",
    "vote_counts = valid_votes['vote_average'].value_counts().sort_index()\n",
    "vote_counts = vote_counts.reindex(range(1, 11), fill_value=0)\n",
    "\n",
    "plt.figure(figsize=(10, 6))\n",
    "sns.barplot(x=vote_counts.index, y=vote_counts.values, palette='coolwarm')\n",
    "plt.title('Distribución de Valoraciones de las Películas')\n",
    "plt.xlabel('Puntuación')\n",
    "plt.ylabel('Número de Películas')\n",
    "plt.xticks(range(1, 11))\n",
    "plt.savefig(os.path.join(carpeta_graficos, 'puntuaciones.png'))\n",
    "plt.show()"
   ]
  },
  {
   "cell_type": "code",
   "execution_count": null,
   "metadata": {},
   "outputs": [],
   "source": [
    "#GRAFICO 10, NUBE DE PALABRAS\n",
    "text = ' '.join(movies_metadata['overview'].dropna())\n",
    "wordcloud = WordCloud(width=800, height=400, background_color='white').generate(text)\n",
    "plt.imshow(wordcloud, interpolation='bilinear')\n",
    "plt.axis('off')\n",
    "plt.savefig(os.path.join(carpeta_graficos, 'nube-palabras.png'))"
   ]
  },
  {
   "cell_type": "code",
   "execution_count": null,
   "metadata": {},
   "outputs": [],
   "source": [
    "#GRAFICO 11, TOP GENEROS DE PELICULAS\n",
    "movies_metadata['genres'] = movies_metadata['genres'].astype(str)\n",
    "\n",
    "def extract_genres(genres): #Función para extraer géneros\n",
    "    if pd.isna(genres):\n",
    "        return []\n",
    "    try:\n",
    "        genre_list = ast.literal_eval(genres)\n",
    "        return [genre['name'] for genre in genre_list]\n",
    "    except (ValueError, SyntaxError):\n",
    "        return []\n",
    "\n",
    "movies_metadata['genres'] = movies_metadata['genres'].apply(extract_genres)\n",
    "all_genres = [genre for sublist in movies_metadata['genres'] for genre in sublist]\n",
    "genre_counts = Counter(all_genres)\n",
    "genre_counts_df = pd.DataFrame(genre_counts.items(), columns=['Genre', 'Count']).sort_values(by='Count', ascending=False)\n",
    "\n",
    "plt.figure(figsize=(12, 8))\n",
    "sns.barplot(data=genre_counts_df.head(20), x='Genre', y='Count', palette='viridis')\n",
    "plt.title('Top 20 Categorías Más Comunes')\n",
    "plt.xlabel('Categoría')\n",
    "plt.ylabel('Número de Películas')\n",
    "plt.xticks(rotation=90)\n",
    "plt.savefig(os.path.join(carpeta_graficos, 'top-categorias.png'))\n",
    "plt.show()\n"
   ]
  }
 ],
 "metadata": {
  "kernelspec": {
   "display_name": "Python 3",
   "language": "python",
   "name": "python3"
  },
  "language_info": {
   "codemirror_mode": {
    "name": "ipython",
    "version": 3
   },
   "file_extension": ".py",
   "mimetype": "text/x-python",
   "name": "python",
   "nbconvert_exporter": "python",
   "pygments_lexer": "ipython3",
   "version": "3.12.0"
  }
 },
 "nbformat": 4,
 "nbformat_minor": 2
}
